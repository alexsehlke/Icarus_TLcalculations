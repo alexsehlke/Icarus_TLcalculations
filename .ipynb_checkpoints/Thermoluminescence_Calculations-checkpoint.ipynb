{
 "cells": [
  {
   "cell_type": "markdown",
   "id": "97483a44-0fc6-4c81-a1c4-b86882589e84",
   "metadata": {},
   "source": [
    "# Thermoluminescence Calculations"
   ]
  },
  {
   "cell_type": "markdown",
   "id": "884699a1-2563-4912-8837-51ba692026e9",
   "metadata": {},
   "source": [
    "## Script 1: Second-Order TL Peak Calculation"
   ]
  },
  {
   "cell_type": "markdown",
   "id": "2deba2e5-1388-428e-a8ff-72e0cb511a8c",
   "metadata": {},
   "source": [
    "This script providses the means to calculate the position of the TL peak following second-order kinetics based on the E, s, N and n0, and heating rate. The given equation below describes the intensity 𝐼 of the luminescence as a function of temperature and other parameters. Thermoluminescence is the emission of light from a material when it is heated, and it occurs because trapped electrons in defects within the material are released and recombine with holes, emitting light. The parameters in the equation are defined as follows:\n",
    "\n",
    "$I = \\frac{n_0 s}{N} \\exp\\left(\\frac{E}{kT}\\right) \\left[ 1 + \\frac{n_0 s}{N \\beta} \\int \\exp\\left(-\\frac{E}{kT}\\right) dT \\right]^{-2}$\n",
    "\n",
    "\n",
    "𝐼: The intensity of the thermoluminescence emitted by the material. This is the quantity being measured as the material is heated.\n",
    "n0: The initial concentration of trapped charge carriers (e.g., electrons) in the material before heating begins. This represents the number of electrons initially trapped in defect sites.\n",
    "\n",
    "𝑠: The frequency factor, also known as the attempt-to-escape frequency. It represents the probability per unit time that a trapped electron will escape from the trap.\n",
    "\n",
    "𝑁: The total number of available trapping sites in the material. This provides a normalization factor to account for the proportion of traps that are initially filled.\n",
    "\n",
    "𝐸: The activation energy required to release the trapped electrons. This is the energy barrier that must be overcome for an electron to escape from its trap and contribute to the thermoluminescence signal.\n",
    "\n",
    "𝑘: The Boltzmann constant, which relates the thermal energy to temperature.\n",
    "\n",
    "𝑇: The absolute temperature at which the material is being heated, measured in Kelvin. The temperature affects the likelihood of trapped electrons gaining enough energy to escape.\n",
    "\n",
    "𝛽: The heating rate, which is the rate at which the temperature is increased during the experiment, typically measured in Kelvin per second. This parameter influences the dynamics of how electrons are released as the temperature changes.\n"
   ]
  },
  {
   "cell_type": "code",
   "execution_count": 20,
   "id": "da55796f-a021-426b-9fb4-81aaafb07583",
   "metadata": {},
   "outputs": [
    {
     "name": "stdout",
     "output_type": "stream",
     "text": [
      "Maximum Intensity at 299.9 K.\n",
      "Plot has been saved as SO_PeakCalc_E0.80eV_s1.0e+14s-1_Tp299.9K.png\n",
      "Data have been saved as SO_PeakCalc_E0.80eV_s1.0e+14s-1_Tp299.9K.csv\n"
     ]
    },
    {
     "data": {
      "image/png": "[encoded data removed]",
      "text/plain": [
       "<Figure size 400x300 with 1 Axes>"
      ]
     },
     "metadata": {},
     "output_type": "display_data"
    }
   ],
   "source": [
    "import numpy as np\n",
    "import pandas as pd\n",
    "import matplotlib.pyplot as plt\n",
    "from scipy.integrate import quad\n",
    "\n",
    "## INSTRUCTIONS ##\n",
    "## Adjust input parameters at the end of script under 'Input parameters'\n",
    "\n",
    "# Input parameters\n",
    "E_eV = 0.80    # Activation energy in eV\n",
    "s = 1E14   # Frequency factor\n",
    "\n",
    "N = 1E5    # Total concentration of traps\n",
    "n0 = N*(1/5)  # Initial concentration of electrons in traps\n",
    "beta = 7.5    # Heating rate\n",
    "\n",
    "T0 = 1    # Starting temperature for the measurement\n",
    "T_max = 800  # Maximum temperature for the measurement\n",
    "\n",
    "# Constants\n",
    "k_J_per_K = 1.381e-23  # Boltzmann constant in J/K\n",
    "\n",
    "# Integral function for second-order kinetics\n",
    "def integral_second_order(T, T0, E_J, beta, N):\n",
    "    def integrand(T_prime):\n",
    "        return np.exp(-E_J / (k_J_per_K * T_prime))\n",
    "    \n",
    "    integral_result, _ = quad(integrand, T0, T)\n",
    "    return integral_result\n",
    "\n",
    "# Intensity function for second-order kinetics\n",
    "def intensity_second_order(T, E_J, n0, s, beta, N, T0):\n",
    "    integral_result = integral_second_order(T, T0, E_J, beta, N)\n",
    "    numerator = n0**2 * s * np.exp(-E_J / (k_J_per_K * T))\n",
    "    denominator = N * (1 + (n0 * s) / (beta * N) * integral_result)**2\n",
    "    return numerator / denominator\n",
    "\n",
    "# Function to plot I(T) against T and find T at maximum I\n",
    "def plot_intensity_vs_temperature_and_find_max(E_eV, n0, s, beta, N, T0, T_max):\n",
    "    # Convert E from eV to J\n",
    "    E_J = E_eV * 1.602e-19\n",
    "    \n",
    "    # Temperature range\n",
    "    T_range = np.linspace(T0, T_max, 4000)\n",
    "    \n",
    "    # Calculate intensity values over the temperature range\n",
    "    intensity_values = [intensity_second_order(T, E_J, n0, s, beta, N, T0) for T in T_range]\n",
    "    \n",
    "    # Find the temperature at maximum intensity\n",
    "    max_intensity_index = np.argmax(intensity_values)\n",
    "    max_intensity_temperature = T_range[max_intensity_index]\n",
    "    \n",
    "    # Plotting\n",
    "    plt.figure(figsize=(4, 3))\n",
    "    plt.fill_between(T_range, intensity_values, alpha=0.5, label=f'E={E_eV} eV, s={s:.1e} s-1')\n",
    "    plt.plot(T_range, intensity_values, alpha=1)\n",
    "\n",
    "\n",
    "    plt.minorticks_on()\n",
    "    plt.tick_params(which='major', axis='both', direction='in', \n",
    "                    length=6, labeltop=True, labelright=True, top=True, right=True, labelsize=9)\n",
    "    plt.tick_params(which='minor', axis='both', direction='in', \n",
    "                    length=3, labeltop=False, labelright=False, top=True, right=True)\n",
    "\n",
    "    plt.xlabel('Temperature, $T$ [K]')\n",
    "    plt.ylabel('Intensity, $I$ [cps]')\n",
    "    plt.legend(fontsize=7, loc='best')\n",
    "    plt.xlim(0,800)\n",
    "    plt.ylim(0,)\n",
    "    plt.grid(False)\n",
    "    plt.show\n",
    "    \n",
    "    \n",
    "\n",
    "    # Generating the CSV file name based on the temperature, E value in eV, and s value\n",
    "    filename = f\"SO_PeakCalc_E{E_eV:.2f}eV_s{s:.1e}s-1_Tp{max_intensity_temperature:.1f}K\"\n",
    "\n",
    "    # Save the plot with the same naming convention\n",
    "    plt.savefig(f\"./calculations/{filename}.png\", dpi=600, bbox_inches='tight')\n",
    "\n",
    "\n",
    "    # Print the temperature of maximum intensity\n",
    "    print(f'Maximum Intensity at {max_intensity_temperature:.1f} K.')\n",
    "    print(f\"Plot has been saved as {filename}.png\")\n",
    "    print(f\"Data have been saved as {filename}.csv\")\n",
    "    \n",
    "    # Create a DataFrame from the simulation data\n",
    "\n",
    "    \n",
    "    df_output_s1 = pd.DataFrame({\n",
    "        'temp_K': T_range,\n",
    "        'intensity': intensity_values,\n",
    "    })\n",
    "\n",
    "    # Save the DataFrame to a CSV file\n",
    "    df_output_s1.to_csv(f\"./calculations/{filename}.csv\", index=False)\n",
    "\n",
    "# Call the function to plot and find the maximum intensity temperature\n",
    "\n",
    "plot_intensity_vs_temperature_and_find_max(E_eV, n0, s, beta, N, T0, T_max)\n"
   ]
  },
  {
   "cell_type": "code",
   "execution_count": 77,
   "id": "e9b99de7-a6f2-4819-a352-f9102681c774",
   "metadata": {},
   "outputs": [
    {
     "data": {
      "text/plain": [
       "'Trapped_Electrons_T_90K_E_1.15eV_s_5.0e+08'"
      ]
     },
     "execution_count": 77,
     "metadata": {},
     "output_type": "execute_result"
    }
   ],
   "source": []
  },
  {
   "cell_type": "markdown",
   "id": "d177a969-f1cf-4fc0-960d-c59171abdd41",
   "metadata": {},
   "source": [
    "## Script 2: TL Build-up & Equilibrium over Time"
   ]
  },
  {
   "cell_type": "code",
   "execution_count": 10,
   "id": "18f64151-a48f-4825-836d-fb951a4afc4b",
   "metadata": {},
   "outputs": [
    {
     "data": {
      "image/png": "[encoded data removed]",
      "text/plain": [
       "<Figure size 400x400 with 1 Axes>"
      ]
     },
     "metadata": {},
     "output_type": "display_data"
    },
    {
     "name": "stdout",
     "output_type": "stream",
     "text": [
      "Plot has been saved as Trapped_Electrons_T_80K_E_0.55eV_s_1.0e+15.png\n",
      "Data has been saved to Trapped_Electrons_T_80K_E_0.55eV_s_1.0e+15\n"
     ]
    }
   ],
   "source": [
    "from scipy.integrate import odeint\n",
    "import numpy as np\n",
    "import matplotlib.pyplot as plt\n",
    "import pandas as pd\n",
    "\n",
    "## INSTRUCTIONS\n",
    "## Adjust 'Parameters for the simulation' as desired\n",
    "## The script will generate a plot and a .csv file with the kinetic parameters in the filename\n",
    "\n",
    "# Parameters for the simulation\n",
    "N = 1E12                # Total concentration of traps\n",
    "R = 3.17E-9             # Dose rate in Gray per second\n",
    "alpha = 1.7E-7          # Rate constant for trap filling\n",
    "s = 1E15                # Frequency factor for electron escape\n",
    "E_eV = 0.55             # Activation energy in eV\n",
    "T = 80                 # Environment temperature in Kelvin\n",
    "E = E_eV * 1.602e-19    # Activation energy converted to Joules, no input needed!\n",
    "\n",
    "# Constants\n",
    "k_B = 1.381e-23  # Boltzmann constant in J/K\n",
    "\n",
    "# Differential equation for the dynamics of trap filling and emptying\n",
    "def trap_dynamics(n, t, N, R, alpha, s, E, T):\n",
    "    kT = k_B * T\n",
    "    filling_rate = alpha * (N - n) * R\n",
    "    emptying_rate = n * s * np.exp(-E / kT)\n",
    "    return filling_rate - emptying_rate\n",
    "\n",
    "# Time span for the simulation in seconds (100,000 years)\n",
    "time_span = np.linspace(0, 4E9 * 365.25 * 24 * 3600, 100000)\n",
    "\n",
    "# Initial condition: starting with no traps filled\n",
    "initial_n = 0\n",
    "\n",
    "# Solving the differential equation using odeint for the new time span\n",
    "solution_long_term = odeint(trap_dynamics, initial_n, time_span, args=(N, R, alpha, s, E, T))\n",
    "\n",
    "# Converting time from seconds to millions of years for plotting\n",
    "time_million_of_years = time_span / (1000000 * 365.25 * 24 * 3600)\n",
    "\n",
    "# Plotting the results for the long-term simulation\n",
    "plt.figure(figsize=(4, 4))\n",
    "\n",
    "plt.minorticks_on()\n",
    "plt.tick_params(which='major', axis='both', direction='in', \n",
    "                    length=6, labeltop=True, labelright=True, top=True, right=True, labelsize=9)\n",
    "plt.tick_params(which='minor', axis='both', direction='in', \n",
    "                    length=3, labeltop=False, labelright=False, top=True, right=True)\n",
    "\n",
    "plt.plot(time_million_of_years, solution_long_term, label='Number of Trapped Electrons', linewidth=2)\n",
    "plt.xlabel('Time, $t$ [Million Years]')\n",
    "plt.ylabel('Number of Trapped Electrons, $n$')\n",
    "plt.yscale('log')\n",
    "plt.xscale('log')\n",
    "plt.xlim(0.001,4.5e3)\n",
    "plt.ylim(1,N*2)\n",
    "plt.grid(True)\n",
    "\n",
    "\n",
    "\n",
    "# Generating the CSV file name based on the temperature, E value in eV, and s value\n",
    "filename = f\"Trapped_Electrons_T_{int(T)}K_E_{E_eV:.2f}eV_s_{s:.1e}\"\n",
    "\n",
    "# Save the plot with the same naming convention\n",
    "plt.savefig(f\"./calculations/{filename}.png\", dpi=600, bbox_inches='tight')\n",
    "\n",
    "plt.show()\n",
    "\n",
    "print(f\"Plot has been saved as {filename}.png\")\n",
    "\n",
    "# Create a DataFrame from the simulation data\n",
    "df_output = pd.DataFrame({\n",
    "    'Time (Million Years)': time_million_of_years,\n",
    "    'Number of Trapped Electrons': solution_long_term.flatten()\n",
    "})\n",
    "\n",
    "\n",
    "# Save the DataFrame to a CSV file\n",
    "df_output.to_csv(f\"./calculations/{filename}.csv\", index=False)\n",
    "\n",
    "print(f\"Data has been saved to {filename}\")"
   ]
  },
  {
   "cell_type": "code",
   "execution_count": null,
   "id": "cc0e0c06-815e-4cfd-82b1-a2af0d051643",
   "metadata": {},
   "outputs": [],
   "source": []
  }
 ],
 "metadata": {
  "kernelspec": {
   "display_name": "Python 3 (ipykernel)",
   "language": "python",
   "name": "python3"
  },
  "language_info": {
   "codemirror_mode": {
    "name": "ipython",
    "version": 3
   },
   "file_extension": ".py",
   "mimetype": "text/x-python",
   "name": "python",
   "nbconvert_exporter": "python",
   "pygments_lexer": "ipython3",
   "version": "3.11.5"
  }
 },
 "nbformat": 4,
 "nbformat_minor": 5
}
